{
 "cells": [
  {
   "cell_type": "code",
   "execution_count": 1,
   "metadata": {},
   "outputs": [
    {
     "name": "stdout",
     "output_type": "stream",
     "text": [
      "True\n",
      "2.6.0+cu118\n"
     ]
    }
   ],
   "source": [
    "# This is a check to see if pytorch is using NVIDIA GPU\n",
    "# install pytorch using pip install torch  --index-url https://download.pytorch.org/whl/cu118\n",
    "\n",
    "import torch\n",
    "\n",
    "print(torch.cuda.is_available())\n",
    "\n",
    "print(torch.__version__)\n"
   ]
  },
  {
   "cell_type": "code",
   "execution_count": 2,
   "metadata": {},
   "outputs": [
    {
     "name": "stderr",
     "output_type": "stream",
     "text": [
      "No model was supplied, defaulted to distilbert/distilbert-base-uncased-finetuned-sst-2-english and revision 714eb0f (https://huggingface.co/distilbert/distilbert-base-uncased-finetuned-sst-2-english).\n",
      "Using a pipeline without specifying a model name and revision in production is not recommended.\n",
      "Device set to use cuda:0\n"
     ]
    },
    {
     "name": "stdout",
     "output_type": "stream",
     "text": [
      "[{'label': 'POSITIVE', 'score': 0.9998722076416016}, {'label': 'NEGATIVE', 'score': 0.999622106552124}, {'label': 'NEGATIVE', 'score': 0.9984796643257141}, {'label': 'NEGATIVE', 'score': 0.9985328912734985}]\n"
     ]
    }
   ],
   "source": [
    "from transformers import pipeline\n",
    "\n",
    "# transformers documentation: https://huggingface.co/transformers/v4.10.1/main_classes/pipelines.html\n",
    "\n",
    "# create a classifier object for sentiment analysis\n",
    "\n",
    "classifier = pipeline(task=\"sentiment-analysis\", framework=\"pt\") \n",
    "\n",
    "# simple non-ambiguous examples to begin with\n",
    "classifier_input = [\n",
    "    \"I love the new movie\",\n",
    "    \"I hate the new movie\",\n",
    "    \"I kinda do not know how I feel about the new movie\", # ambiguous example\n",
    "    \"I am not sure how I feel about the new movie\", # ambiguous example\n",
    "]\n",
    "\n",
    "# call classifier with input\n",
    "\n",
    "classifier_output = classifier(classifier_input)\n",
    "\n",
    "print(classifier_output)"
   ]
  },
  {
   "cell_type": "code",
   "execution_count": 3,
   "metadata": {},
   "outputs": [
    {
     "name": "stdout",
     "output_type": "stream",
     "text": [
      "{'input_ids': tensor([[  101,  1045,  2293,  1996,  2047,  3185,   102,     0,     0,     0,\n",
      "             0,     0,     0,     0],\n",
      "        [  101,  1045,  5223,  1996,  2047,  3185,   102,     0,     0,     0,\n",
      "             0,     0,     0,     0],\n",
      "        [  101,  1045, 17704,  2079,  2025,  2113,  2129,  1045,  2514,  2055,\n",
      "          1996,  2047,  3185,   102],\n",
      "        [  101,  1045,  2572,  2025,  2469,  2129,  1045,  2514,  2055,  1996,\n",
      "          2047,  3185,   102,     0]]), 'attention_mask': tensor([[1, 1, 1, 1, 1, 1, 1, 0, 0, 0, 0, 0, 0, 0],\n",
      "        [1, 1, 1, 1, 1, 1, 1, 0, 0, 0, 0, 0, 0, 0],\n",
      "        [1, 1, 1, 1, 1, 1, 1, 1, 1, 1, 1, 1, 1, 1],\n",
      "        [1, 1, 1, 1, 1, 1, 1, 1, 1, 1, 1, 1, 1, 0]])}\n"
     ]
    }
   ],
   "source": [
    "from transformers import AutoTokenizer\n",
    "\n",
    "# TODO: study this particular checkpoint\n",
    "\n",
    "checkpoint = \"distilbert-base-uncased-finetuned-sst-2-english\"\n",
    "\n",
    "# load tokenizer\n",
    "tokenizer = AutoTokenizer.from_pretrained(checkpoint)\n",
    "\n",
    "# print(tokenizer)\n",
    "\n",
    "inputs = tokenizer(classifier_input, padding=True, truncation=True, return_tensors=\"pt\")\n",
    "print(inputs)"
   ]
  },
  {
   "cell_type": "code",
   "execution_count": 9,
   "metadata": {},
   "outputs": [
    {
     "name": "stdout",
     "output_type": "stream",
     "text": [
      "torch.Size([4, 14, 768])\n"
     ]
    }
   ],
   "source": [
    "from transformers import AutoModel\n",
    "\n",
    "checkpoint = \"distilbert-base-uncased-finetuned-sst-2-english\"\n",
    "\n",
    "# load model\n",
    "model = AutoModel.from_pretrained(checkpoint)\n",
    "\n",
    "# run the model with tokenized inputs to get the output\n",
    "outputs = model(**inputs)\n",
    "print(outputs.last_hidden_state.shape)\n"
   ]
  },
  {
   "cell_type": "code",
   "execution_count": 6,
   "metadata": {},
   "outputs": [
    {
     "name": "stdout",
     "output_type": "stream",
     "text": [
      "torch.Size([4, 2])\n",
      "tensor([[-4.3119,  4.6533],\n",
      "        [ 4.3538, -3.5269],\n",
      "        [ 3.5596, -2.9277],\n",
      "        [ 3.5888, -2.9343]], grad_fn=<AddmmBackward0>)\n"
     ]
    }
   ],
   "source": [
    "from transformers import AutoModelForSequenceClassification\n",
    "\n",
    "checkpoint = \"distilbert-base-uncased-finetuned-sst-2-english\"\n",
    "model = AutoModelForSequenceClassification.from_pretrained(checkpoint)\n",
    "outputs = model(**inputs)\n",
    "\n",
    "print(outputs.logits.shape)\n",
    "print(outputs.logits)\n"
   ]
  },
  {
   "cell_type": "code",
   "execution_count": 8,
   "metadata": {},
   "outputs": [
    {
     "name": "stdout",
     "output_type": "stream",
     "text": [
      "tensor([[1.2777e-04, 9.9987e-01],\n",
      "        [9.9962e-01, 3.7784e-04],\n",
      "        [9.9848e-01, 1.5203e-03],\n",
      "        [9.9853e-01, 1.4671e-03]], grad_fn=<SoftmaxBackward0>)\n",
      "{0: 'NEGATIVE', 1: 'POSITIVE'}\n"
     ]
    }
   ],
   "source": [
    "import torch\n",
    "predictions = torch.nn.functional.softmax(outputs.logits, dim=-1)\n",
    "\n",
    "print(predictions)\n",
    "\n",
    "print(model.config.id2label)"
   ]
  }
 ],
 "metadata": {
  "kernelspec": {
   "display_name": ".venv",
   "language": "python",
   "name": "python3"
  },
  "language_info": {
   "codemirror_mode": {
    "name": "ipython",
    "version": 3
   },
   "file_extension": ".py",
   "mimetype": "text/x-python",
   "name": "python",
   "nbconvert_exporter": "python",
   "pygments_lexer": "ipython3",
   "version": "3.11.4"
  }
 },
 "nbformat": 4,
 "nbformat_minor": 2
}
