{
 "cells": [
  {
   "cell_type": "markdown",
   "metadata": {},
   "source": [
    "# Normalization\n",
    "\n",
    "[google notes](https://developers.google.com/machine-learning/crash-course/numerical-data/normalization)\n",
    "\n",
    "There are 3 types \n",
    "- linear\n",
    "- z score scaling\n",
    "- log scaling\n",
    "\n",
    "Linear is a good choice when the data is linearly distributed and we are only interested in defining the high and low of the data\n",
    "\n",
    "z score scaling is a good choice when the data follows a certain normal distribution (albeit skewed)\n",
    "\n",
    "log scaling is a good choice when the data follows a power law distribution\n",
    "\n"
   ]
  },
  {
   "cell_type": "code",
   "execution_count": 5,
   "metadata": {},
   "outputs": [
    {
     "name": "stdout",
     "output_type": "stream",
     "text": [
      "   total_bill   tip  gender smoker  day    time  size\n",
      "0       16.99  1.01  Female     No  Sun  Dinner     2\n",
      "1       10.34  1.66    Male     No  Sun  Dinner     3\n",
      "2       21.01  3.50    Male     No  Sun  Dinner     3\n",
      "3       23.68  3.31    Male     No  Sun  Dinner     2\n",
      "4       24.59  3.61  Female     No  Sun  Dinner     4\n"
     ]
    }
   ],
   "source": [
    "# necessary imports\n",
    "import pandas as pd \n",
    "\n",
    "tipsDataframe = pd.read_csv(\"C:\\\\Users\\\\anubh\\\\Projects\\\\machine-learning\\\\ml\\\\datasets\\\\tipsdataset.csv\")\n",
    "\n",
    "tipsDataframe.describe()\n",
    "print(tipsDataframe.head())"
   ]
  }
 ],
 "metadata": {
  "kernelspec": {
   "display_name": "Python 3",
   "language": "python",
   "name": "python3"
  },
  "language_info": {
   "codemirror_mode": {
    "name": "ipython",
    "version": 3
   },
   "file_extension": ".py",
   "mimetype": "text/x-python",
   "name": "python",
   "nbconvert_exporter": "python",
   "pygments_lexer": "ipython3",
   "version": "3.11.4"
  }
 },
 "nbformat": 4,
 "nbformat_minor": 2
}
