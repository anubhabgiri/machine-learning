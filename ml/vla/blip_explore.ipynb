{
 "cells": [
  {
   "cell_type": "code",
   "execution_count": 2,
   "metadata": {},
   "outputs": [
    {
     "name": "stdout",
     "output_type": "stream",
     "text": [
      "Caption: a screenshote screen with a video player in the center\n",
      "Answer: is the user logged in?? - youtube\n"
     ]
    }
   ],
   "source": [
    "from transformers import BlipProcessor, BlipForConditionalGeneration\n",
    "from PIL import Image\n",
    "import torch\n",
    "\n",
    "# Load the processor and model\n",
    "processor = BlipProcessor.from_pretrained(\"Salesforce/blip-image-captioning-base\")\n",
    "model = BlipForConditionalGeneration.from_pretrained(\"Salesforce/blip-image-captioning-base\")\n",
    "\n",
    "# Load your image\n",
    "image_path = \"linkedin_feed_sample.png\" # Replace with your image path\n",
    "image = Image.open(image_path).convert(\"RGB\")\n",
    "\n",
    "# Process the image\n",
    "inputs = processor(images=image, return_tensors=\"pt\")\n",
    "\n",
    "# Generate the caption\n",
    "with torch.no_grad():\n",
    "    outputs = model.generate(**inputs, max_length=50)\n",
    "\n",
    "# Decode the caption\n",
    "caption = processor.decode(outputs[0], skip_special_tokens=True)\n",
    "\n",
    "print(\"Caption:\", caption)\n",
    "\n",
    "#Visual Question Answering example\n",
    "#VQA example\n",
    "question = \"is the user logged in?\"\n",
    "inputs_vqa = processor(images=image, text=question, return_tensors=\"pt\")\n",
    "\n",
    "with torch.no_grad():\n",
    "    output_vqa = model.generate(**inputs_vqa, max_length=20)\n",
    "\n",
    "answer = processor.decode(output_vqa[0], skip_special_tokens=True)\n",
    "\n",
    "print(\"Answer:\", answer)"
   ]
  },
  {
   "cell_type": "code",
   "execution_count": 4,
   "metadata": {},
   "outputs": [
    {
     "name": "stdout",
     "output_type": "stream",
     "text": [
      "Is the user logged in?: yes\n",
      "Is there a video in the feed?: yes\n"
     ]
    }
   ],
   "source": [
    "from PIL import Image\n",
    "import requests\n",
    "from transformers import AutoProcessor, BlipForQuestionAnswering\n",
    "\n",
    "model = BlipForQuestionAnswering.from_pretrained(\"Salesforce/blip-vqa-base\")\n",
    "processor = AutoProcessor.from_pretrained(\"Salesforce/blip-vqa-base\")\n",
    "\n",
    "image_path = \"linkedin_feed_sample.png\" \n",
    "image = Image.open(image_path).convert(\"RGB\")\n",
    "\n",
    "# # training\n",
    "# text = \"How many cats are in the picture?\"\n",
    "# label = \"2\"\n",
    "# inputs = processor(images=image, text=text, return_tensors=\"pt\")\n",
    "# labels = processor(text=label, return_tensors=\"pt\").input_ids\n",
    "\n",
    "# inputs[\"labels\"] = labels\n",
    "# outputs = model(**inputs)\n",
    "# loss = outputs.loss\n",
    "# loss.backward()\n",
    "\n",
    "# inference\n",
    "text = \"Is the user logged in?\"\n",
    "text2 = \"Is there a video in the feed?\"\n",
    "inputs = processor(images=image, text=text, return_tensors=\"pt\")\n",
    "inputs2 = processor(images=image, text=text2, return_tensors=\"pt\")\n",
    "outputs = model.generate(**inputs)\n",
    "outputs2 = model.generate(**inputs2)\n",
    "print(f\"{text}:\",processor.decode(outputs[0], skip_special_tokens=True))\n",
    "print(f\"{text2}:\",processor.decode(outputs2[0], skip_special_tokens=True))\n",
    "\n"
   ]
  }
 ],
 "metadata": {
  "kernelspec": {
   "display_name": ".venv",
   "language": "python",
   "name": "python3"
  },
  "language_info": {
   "codemirror_mode": {
    "name": "ipython",
    "version": 3
   },
   "file_extension": ".py",
   "mimetype": "text/x-python",
   "name": "python",
   "nbconvert_exporter": "python",
   "pygments_lexer": "ipython3",
   "version": "3.11.4"
  }
 },
 "nbformat": 4,
 "nbformat_minor": 2
}
